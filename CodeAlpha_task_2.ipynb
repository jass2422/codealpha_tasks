{
 "cells": [
  {
   "cell_type": "markdown",
   "id": "057d4623",
   "metadata": {},
   "source": [
    "# Write a Python program to implement a simple rule-based chatbot.\n",
    "\n",
    "**The chatbot should:**\n",
    "\n",
    "Take user input such as: \"hello\", \"how are you\", and \"bye\".\n",
    "\n",
    "Respond with predefined replies:\n",
    "\n",
    "\"hello\" → Hi!\n",
    "\n",
    "\"how are you\" → I'm fine, thanks!\n",
    "\n",
    "\"bye\" → Goodbye! and end the conversation\n",
    "\n",
    "If the input does not match any of the above, respond with: Sorry, I don't understand that.\n",
    "\n",
    "**Key Concepts to Use:**\n",
    "if-elif statements\n",
    "\n",
    "functions\n",
    "\n",
    "loops\n",
    "\n",
    "input() and print() functions"
   ]
  },
  {
   "cell_type": "code",
   "execution_count": 1,
   "id": "940bba81",
   "metadata": {},
   "outputs": [],
   "source": [
    "def basic_chatbot():\n",
    "    print(\"Chatbot: Hello! I'm your simple rule-based chatbot.\")\n",
    "    print(\"Type 'hello', 'how are you', or 'bye' to interact. Type 'bye' to exit.\\n\")\n",
    "\n",
    "    while True:\n",
    "        user_input = input(\"You: \").lower().strip()\n",
    "\n",
    "        if user_input == \"hello\":\n",
    "            print(\"Chatbot: Hi!\")\n",
    "        elif user_input == \"how are you\":\n",
    "            print(\"Chatbot: I'm fine, thanks!\")\n",
    "        elif user_input == \"bye\":\n",
    "            print(\"Chatbot: Goodbye!\")\n",
    "            break\n",
    "        else:\n",
    "            print(\"Chatbot: Sorry, I don't understand that.\")\n"
   ]
  },
  {
   "cell_type": "code",
   "execution_count": 2,
   "id": "68892f28",
   "metadata": {},
   "outputs": [
    {
     "name": "stdout",
     "output_type": "stream",
     "text": [
      "Chatbot: Hello! I'm your simple rule-based chatbot.\n",
      "Type 'hello', 'how are you', or 'bye' to interact. Type 'bye' to exit.\n",
      "\n",
      "You: Hello\n",
      "Chatbot: Hi!\n",
      "You: how are you\n",
      "Chatbot: I'm fine, thanks!\n",
      "You: bye\n",
      "Chatbot: Goodbye!\n"
     ]
    }
   ],
   "source": [
    "basic_chatbot()"
   ]
  },
  {
   "cell_type": "code",
   "execution_count": null,
   "id": "2b00eaaa",
   "metadata": {},
   "outputs": [],
   "source": []
  }
 ],
 "metadata": {
  "kernelspec": {
   "display_name": "Python 3 (ipykernel)",
   "language": "python",
   "name": "python3"
  },
  "language_info": {
   "codemirror_mode": {
    "name": "ipython",
    "version": 3
   },
   "file_extension": ".py",
   "mimetype": "text/x-python",
   "name": "python",
   "nbconvert_exporter": "python",
   "pygments_lexer": "ipython3",
   "version": "3.10.9"
  }
 },
 "nbformat": 4,
 "nbformat_minor": 5
}
