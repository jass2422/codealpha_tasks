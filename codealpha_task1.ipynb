{
  "nbformat": 4,
  "nbformat_minor": 0,
  "metadata": {
    "colab": {
      "provenance": [],
      "authorship_tag": "ABX9TyMPOqsiH5BCpHwdi9ZMrO78",
      "include_colab_link": true
    },
    "kernelspec": {
      "name": "python3",
      "display_name": "Python 3"
    },
    "language_info": {
      "name": "python"
    }
  },
  "cells": [
    {
      "cell_type": "markdown",
      "metadata": {
        "id": "view-in-github",
        "colab_type": "text"
      },
      "source": [
        "<a href=\"https://colab.research.google.com/github/jass2422/codealpha_tasks/blob/main/codealpha_task1.ipynb\" target=\"_parent\"><img src=\"https://colab.research.google.com/assets/colab-badge.svg\" alt=\"Open In Colab\"/></a>"
      ]
    },
    {
      "cell_type": "markdown",
      "source": [
        "**CodeAlpha Task 1**"
      ],
      "metadata": {
        "id": "pgysNouzsPF2"
      }
    },
    {
      "cell_type": "markdown",
      "source": [
        "FIBONACCI GENERATOR\n",
        "\n",
        "The Fibonacci series is a sequence where each number is\n",
        "the sum of the two preceding numbers, defined by a\n",
        "mathematical recurrence relationship."
      ],
      "metadata": {
        "id": "aDV9gpoIvCnU"
      }
    },
    {
      "cell_type": "code",
      "source": [
        "def generate_fibonacci(n):\n",
        "  fib_series = []\n",
        "  a , b = 0, 1\n",
        "  for _ in range(n):\n",
        "    fib_series.append(a)\n",
        "    a , b = b, a+b\n",
        "  return fib_series\n",
        "\n",
        "num_terms = int(input(\"Enter number of Fibonacci terms to generate: \"))\n",
        "print(\"Fibonacci Series: \", generate_fibonacci(num_terms))"
      ],
      "metadata": {
        "colab": {
          "base_uri": "https://localhost:8080/"
        },
        "id": "pbnNgFRjxhda",
        "outputId": "1bbd8a61-0cfa-4699-9dce-01388d7b8646"
      },
      "execution_count": 12,
      "outputs": [
        {
          "output_type": "stream",
          "name": "stdout",
          "text": [
            "Enter number of Fibonacci terms to generate: 20\n",
            "Fibonacci Series:  [0, 1, 1, 2, 3, 5, 8, 13, 21, 34, 55, 89, 144, 233, 377, 610, 987, 1597, 2584, 4181]\n"
          ]
        }
      ]
    }
  ]
}